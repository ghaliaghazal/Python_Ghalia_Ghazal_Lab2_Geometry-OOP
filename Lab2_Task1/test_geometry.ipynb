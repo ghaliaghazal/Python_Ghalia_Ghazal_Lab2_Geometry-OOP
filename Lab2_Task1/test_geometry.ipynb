{
 "cells": [
  {
   "cell_type": "code",
   "execution_count": 5,
   "metadata": {},
   "outputs": [],
   "source": [
    "from circle import Circle\n",
    "from rectangle import Rectangle"
   ]
  },
  {
   "cell_type": "code",
   "execution_count": 6,
   "metadata": {},
   "outputs": [
    {
     "name": "stdout",
     "output_type": "stream",
     "text": [
      "3.141592653589793\n",
      "6.283185307179586\n",
      "3.141592653589793\n",
      "6.283185307179586\n",
      "circle area is 3.141592653589793 and perimeter is 6.283185307179586\n",
      "3.14\n"
     ]
    }
   ],
   "source": [
    "circle_1= Circle(0, 0, 1)\n",
    "print(circle_1.area)\n",
    "print(circle_1.perimeter)\n",
    "\n",
    "circle_2= Circle(2, -1, 1)\n",
    "print(circle_2.area)\n",
    "print(circle_2.perimeter)\n",
    "\n",
    "print (f\"circle area is {circle_1.area} and perimeter is {circle_1.perimeter}\")\n",
    "\n",
    "print (round(circle_2.area, 2))"
   ]
  },
  {
   "cell_type": "code",
   "execution_count": 7,
   "metadata": {},
   "outputs": [
    {
     "name": "stdout",
     "output_type": "stream",
     "text": [
      "4\n",
      "8\n",
      "rectangel area is 4 and perimeter is 8\n"
     ]
    }
   ],
   "source": [
    "rectangle= Rectangle(0, 0, 2, 2)\n",
    "print(rectangle.area)\n",
    "print(rectangle.perimeter)\n",
    "print (f\"rectangel area is {rectangle.area} and perimeter is {rectangle.perimeter}\")\n",
    "\n"
   ]
  }
 ],
 "metadata": {
  "kernelspec": {
   "display_name": "Python 3",
   "language": "python",
   "name": "python3"
  },
  "language_info": {
   "codemirror_mode": {
    "name": "ipython",
    "version": 3
   },
   "file_extension": ".py",
   "mimetype": "text/x-python",
   "name": "python",
   "nbconvert_exporter": "python",
   "pygments_lexer": "ipython3",
   "version": "3.12.8"
  }
 },
 "nbformat": 4,
 "nbformat_minor": 2
}
