{
 "cells": [
  {
   "cell_type": "code",
   "execution_count": 1,
   "metadata": {},
   "outputs": [],
   "source": [
    "from circle import Circle\n",
    "from rectangle import Rectangle"
   ]
  },
  {
   "cell_type": "code",
   "execution_count": 8,
   "metadata": {},
   "outputs": [
    {
     "name": "stdout",
     "output_type": "stream",
     "text": [
      "3.141592653589793\n",
      "6.283185307179586\n",
      "3.141592653589793\n",
      "6.283185307179586\n",
      "circle area is 3.141592653589793 and perimeter is 6.283185307179586\n"
     ]
    }
   ],
   "source": [
    "circle_1= Circle(0, 0, 1)\n",
    "print(circle_1.area)\n",
    "print(circle_1.perimeter)\n",
    "\n",
    "circle_2= Circle(2, -1, 1)\n",
    "print(circle_2.area)\n",
    "print(circle_2.perimeter)\n",
    "\n",
    "print (f\"circle area is {circle_1.area} and perimeter is {circle_1.perimeter}\")"
   ]
  },
  {
   "cell_type": "code",
   "execution_count": 4,
   "metadata": {},
   "outputs": [
    {
     "name": "stdout",
     "output_type": "stream",
     "text": [
      "4\n",
      "8\n",
      "rectangel area is 4 and perimeter is 8\n"
     ]
    }
   ],
   "source": [
    "rektangel_1= Rectangle(0, 0, 2, 2)\n",
    "print(rektangel_1.area)\n",
    "print(rektangel_1.perimeter)\n",
    "print (f\"rectangel area is {rektangel_1.area} and perimeter is {rektangel_1.perimeter}\")\n",
    "\n",
    "\n"
   ]
  }
 ],
 "metadata": {
  "kernelspec": {
   "display_name": "Python 3",
   "language": "python",
   "name": "python3"
  },
  "language_info": {
   "codemirror_mode": {
    "name": "ipython",
    "version": 3
   },
   "file_extension": ".py",
   "mimetype": "text/x-python",
   "name": "python",
   "nbconvert_exporter": "python",
   "pygments_lexer": "ipython3",
   "version": "3.12.8"
  }
 },
 "nbformat": 4,
 "nbformat_minor": 2
}
